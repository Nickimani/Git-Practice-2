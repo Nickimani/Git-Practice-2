{
  "nbformat": 4,
  "nbformat_minor": 0,
  "metadata": {
    "colab": {
      "name": "Practice.ipynb",
      "provenance": [],
      "collapsed_sections": [],
      "include_colab_link": true
    },
    "kernelspec": {
      "name": "python3",
      "display_name": "Python 3"
    },
    "language_info": {
      "name": "python"
    }
  },
  "cells": [
    {
      "cell_type": "markdown",
      "metadata": {
        "id": "view-in-github",
        "colab_type": "text"
      },
      "source": [
        "<a href=\"https://colab.research.google.com/github/Rachael-Osoro/Git-Practice-2/blob/main/Practice.ipynb\" target=\"_parent\"><img src=\"https://colab.research.google.com/assets/colab-badge.svg\" alt=\"Open In Colab\"/></a>"
      ]
    },
    {
      "cell_type": "code",
      "execution_count": null,
      "metadata": {
        "id": "vAt8VdwYyEPC",
        "outputId": "f91d42ce-6176-4c3f-b6df-7121bdee9764",
        "colab": {
          "base_uri": "https://localhost:8080/"
        }
      },
      "outputs": [
        {
          "output_type": "stream",
          "name": "stdout",
          "text": [
            "my name is Nick\n"
          ]
        }
      ],
      "source": [
        "print('my name is Nick')"
      ]
    },
    {
      "cell_type": "code",
      "source": [
        "print('Git colab practice avengers')"
      ],
      "metadata": {
        "id": "zEjx9sE3yHlG",
        "outputId": "b05c80cb-0e1b-4105-80dc-bcfc69ae250d",
        "colab": {
          "base_uri": "https://localhost:8080/"
        }
      },
      "execution_count": 1,
      "outputs": [
        {
          "output_type": "stream",
          "name": "stdout",
          "text": [
            "Git colab practice avengers\n"
          ]
        }
      ]
    },
    {
      "cell_type": "code",
      "source": [],
      "metadata": {
        "id": "jPh10wg8TKdA"
      },
      "execution_count": null,
      "outputs": []
    }
  ]
}